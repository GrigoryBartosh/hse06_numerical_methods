{
 "cells": [
  {
   "cell_type": "code",
   "execution_count": 280,
   "metadata": {},
   "outputs": [
    {
     "data": {
      "text/plain": [
       "{'divide': 'ignore', 'over': 'warn', 'under': 'ignore', 'invalid': 'ignore'}"
      ]
     },
     "execution_count": 280,
     "metadata": {},
     "output_type": "execute_result"
    }
   ],
   "source": [
    "import numpy as np\n",
    "import matplotlib.pyplot as plt\n",
    "np.seterr(divide='ignore', invalid='ignore')"
   ]
  },
  {
   "cell_type": "code",
   "execution_count": 281,
   "metadata": {},
   "outputs": [],
   "source": [
    "N_GRAPH = 1000"
   ]
  },
  {
   "cell_type": "code",
   "execution_count": 282,
   "metadata": {},
   "outputs": [],
   "source": [
    "def get_xs(xl, xr, n):\n",
    "    if n == 1:\n",
    "        return np.array([xl])\n",
    "    s = (xr - xl) / (n - 1)\n",
    "    return np.arange(xl, xr + 10 ** -9, s)"
   ]
  },
  {
   "cell_type": "code",
   "execution_count": 283,
   "metadata": {},
   "outputs": [],
   "source": [
    "def get_diff(xs, f1, f2):\n",
    "    return list(map(lambda x: abs(f1(x) - f2(x)), xs))"
   ]
  },
  {
   "cell_type": "code",
   "execution_count": 284,
   "metadata": {},
   "outputs": [],
   "source": [
    "def draw(xs, ys, names=None):\n",
    "    if type(xs) is not list:\n",
    "        xs = [xs]\n",
    "        ys = [ys]\n",
    "        if names is not None:\n",
    "            names = [names]\n",
    "            \n",
    "    n = len(xs)\n",
    "    for i in range(n):\n",
    "        plt.plot(xs[i], ys[i])\n",
    "        \n",
    "    if names is not None:\n",
    "        plt.legend(names)\n",
    "    plt.show()"
   ]
  },
  {
   "cell_type": "code",
   "execution_count": 285,
   "metadata": {},
   "outputs": [],
   "source": [
    "def gilbert(n):\n",
    "    return np.array([[1 / (i + j + 1) for j in range(n)] for i in range(n)])"
   ]
  },
  {
   "cell_type": "code",
   "execution_count": 286,
   "metadata": {},
   "outputs": [
    {
     "data": {
      "text/plain": [
       "array([[1.        , 0.5       , 0.33333333, 0.25      , 0.2       ],\n",
       "       [0.5       , 0.33333333, 0.25      , 0.2       , 0.16666667],\n",
       "       [0.33333333, 0.25      , 0.2       , 0.16666667, 0.14285714],\n",
       "       [0.25      , 0.2       , 0.16666667, 0.14285714, 0.125     ],\n",
       "       [0.2       , 0.16666667, 0.14285714, 0.125     , 0.11111111]])"
      ]
     },
     "execution_count": 286,
     "metadata": {},
     "output_type": "execute_result"
    }
   ],
   "source": [
    "gilbert(5)"
   ]
  },
  {
   "cell_type": "code",
   "execution_count": 287,
   "metadata": {},
   "outputs": [],
   "source": [
    "def max_eig_linalg(A):\n",
    "    return max(np.linalg.eig(A)[0])"
   ]
  },
  {
   "cell_type": "code",
   "execution_count": 288,
   "metadata": {},
   "outputs": [],
   "source": [
    "def max_eig(A, p=100):\n",
    "    b = np.ones(A.shape[0])\n",
    "    for i in range(p):\n",
    "        b = A @ b\n",
    "        b /= np.linalg.norm(b)\n",
    "    return np.inner(A @ b, b) / np.inner(b, b)"
   ]
  },
  {
   "cell_type": "code",
   "execution_count": 289,
   "metadata": {},
   "outputs": [
    {
     "name": "stdout",
     "output_type": "stream",
     "text": [
      "1.2675918792439982\n",
      "1.2675918792439982\n"
     ]
    }
   ],
   "source": [
    "A = gilbert(2)\n",
    "print(max_eig_linalg(A))\n",
    "print(max_eig(A))"
   ]
  },
  {
   "cell_type": "code",
   "execution_count": 290,
   "metadata": {},
   "outputs": [],
   "source": [
    "def min_eig_linalg(A):\n",
    "    return min(np.linalg.eig(A)[0])"
   ]
  },
  {
   "cell_type": "code",
   "execution_count": 291,
   "metadata": {},
   "outputs": [],
   "source": [
    "def min_eig(A, p=100, norm=False):\n",
    "    t = max_eig(A, p=p)\n",
    "    return max_eig(A - t * np.identity(A.shape[0]), p=p) + t"
   ]
  },
  {
   "cell_type": "code",
   "execution_count": 292,
   "metadata": {},
   "outputs": [
    {
     "name": "stdout",
     "output_type": "stream",
     "text": [
      "0.06574145408933513\n",
      "0.06574145408933485\n"
     ]
    }
   ],
   "source": [
    "A = gilbert(2)\n",
    "print(min_eig_linalg(A))\n",
    "print(min_eig(A))"
   ]
  },
  {
   "cell_type": "code",
   "execution_count": 293,
   "metadata": {},
   "outputs": [
    {
     "data": {
      "image/png": "[encoded data removed]",
      "text/plain": [
       "<Figure size 432x288 with 1 Axes>"
      ]
     },
     "metadata": {
      "needs_background": "light"
     },
     "output_type": "display_data"
    }
   ],
   "source": [
    "n_from = 1\n",
    "n_to = 10\n",
    "\n",
    "ns = list(range(n_from, n_to + 1))\n",
    "\n",
    "ys_linalg = list(map(lambda n: min_eig_linalg(gilbert(n)), ns))\n",
    "ys = list(map(lambda n: min_eig(gilbert(n)), ns))\n",
    "\n",
    "ns = [ns] * 2\n",
    "ys = [ys_linalg, ys]\n",
    "names = [\"log(min_eig_linalg)\", \"log(min_eig)\"]\n",
    "\n",
    "ys = np.array(ys)\n",
    "ys = np.log(ys)\n",
    "\n",
    "draw(ns, ys, names)"
   ]
  },
  {
   "cell_type": "code",
   "execution_count": 294,
   "metadata": {},
   "outputs": [],
   "source": [
    "def kappa_linalg(A):\n",
    "    return np.linalg.cond(A)"
   ]
  },
  {
   "cell_type": "code",
   "execution_count": 295,
   "metadata": {},
   "outputs": [],
   "source": [
    "def kappa(A):\n",
    "    return max_eig(A) / min_eig(A)"
   ]
  },
  {
   "cell_type": "code",
   "execution_count": 296,
   "metadata": {},
   "outputs": [
    {
     "name": "stdout",
     "output_type": "stream",
     "text": [
      "19.28147006790397\n",
      "19.28147006790405\n"
     ]
    }
   ],
   "source": [
    "A = gilbert(2)\n",
    "print(kappa_linalg(A))\n",
    "print(kappa(A))"
   ]
  },
  {
   "cell_type": "code",
   "execution_count": 297,
   "metadata": {},
   "outputs": [
    {
     "data": {
      "image/png": "[encoded data removed]",
      "text/plain": [
       "<Figure size 432x288 with 1 Axes>"
      ]
     },
     "metadata": {
      "needs_background": "light"
     },
     "output_type": "display_data"
    }
   ],
   "source": [
    "n_from = 1\n",
    "n_to = 10\n",
    "\n",
    "ns = list(range(n_from, n_to + 1))\n",
    "\n",
    "ys_linalg = list(map(lambda n: kappa_linalg(gilbert(n)), ns))\n",
    "ys = list(map(lambda n: kappa(gilbert(n)), ns))\n",
    "\n",
    "ns = [ns] * 2\n",
    "ys = [ys_linalg, ys]\n",
    "names = [\"log(kappa_linalg)\", \"log(kappa)\"]\n",
    "\n",
    "ys = np.array(ys)\n",
    "ys = np.log(ys)\n",
    "\n",
    "draw(ns, ys, names)"
   ]
  },
  {
   "cell_type": "code",
   "execution_count": null,
   "metadata": {},
   "outputs": [],
   "source": []
  },
  {
   "cell_type": "code",
   "execution_count": null,
   "metadata": {},
   "outputs": [],
   "source": []
  }
 ],
 "metadata": {
  "kernelspec": {
   "display_name": "Python 3",
   "language": "python",
   "name": "python3"
  },
  "language_info": {
   "codemirror_mode": {
    "name": "ipython",
    "version": 3
   },
   "file_extension": ".py",
   "mimetype": "text/x-python",
   "name": "python",
   "nbconvert_exporter": "python",
   "pygments_lexer": "ipython3",
   "version": "3.6.7"
  }
 },
 "nbformat": 4,
 "nbformat_minor": 2
}
