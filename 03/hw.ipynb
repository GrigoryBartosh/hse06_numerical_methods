{
 "cells": [
  {
   "cell_type": "markdown",
   "metadata": {},
   "source": [
    "Заведем системные функции и константы"
   ]
  },
  {
   "cell_type": "code",
   "execution_count": 331,
   "metadata": {},
   "outputs": [],
   "source": [
    "import numpy as np\n",
    "import matplotlib.pyplot as plt"
   ]
  },
  {
   "cell_type": "code",
   "execution_count": 332,
   "metadata": {},
   "outputs": [],
   "source": [
    "N_GRAPH = 1000"
   ]
  },
  {
   "cell_type": "code",
   "execution_count": 333,
   "metadata": {},
   "outputs": [],
   "source": [
    "def get_xs(xl, xr, n):\n",
    "    s = (xr - xl) / (n - 1)\n",
    "    return np.arange(xl, xr + 10 ** -9, s)"
   ]
  },
  {
   "cell_type": "code",
   "execution_count": 334,
   "metadata": {},
   "outputs": [],
   "source": [
    "def get_diff(xs, f1, f2):\n",
    "    return list(map(lambda x: abs(f1(x) - f2(x)), xs))"
   ]
  },
  {
   "cell_type": "code",
   "execution_count": 335,
   "metadata": {},
   "outputs": [],
   "source": [
    "def draw(xs, ys, names=None):\n",
    "    if type(xs) is not list:\n",
    "        xs = [xs]\n",
    "        ys = [ys]\n",
    "        if names is not None:\n",
    "            names = [names]\n",
    "            \n",
    "    n = len(xs)\n",
    "    for i in range(n):\n",
    "        plt.plot(xs[i], ys[i])\n",
    "        \n",
    "    if names is not None:\n",
    "        plt.legend(names)\n",
    "    plt.show()"
   ]
  },
  {
   "cell_type": "markdown",
   "metadata": {},
   "source": [
    "# Упражнение 1\n",
    "\n",
    "Введем обозначения:\n",
    "\n",
    "$x_a = x_0 - \\frac{h}{a}$, $x_a = x_0$, $x_a = x_0 + ha$\n",
    "\n",
    "Запишем формулу производной с первыми двумя параметрами:\n",
    "\n",
    "$p'(x) = [x_a, x_b]f + [x_a, x_b, x_c]f*(x - x_a + x - x_b)$\n",
    "\n",
    "Тогда:\n",
    "\n",
    "$f'(x_0) \\sim p'(x_c) = \\frac{f(x_b) - f(x_a)}{x_b - x_a} + \\frac{\\frac{f(x_c) - f(x_a)}{x_c - x_a} - \\frac{f(x_b) - f(x_a)}{x_b - x_a}}{x_c - x_b} (x_b - x_a) = \\frac{y_b - y_a}{\\frac{h}{a}} + \\frac{\\frac{y_c - y_a}{ah + \\frac{h}{a}} - \\frac{y_b - y_a}{\\frac{h}{a}}}{ah} \\frac{h}{a} = \\frac{1}{h} ((y_b - y_a)(a - \\frac{1}{a}) + \\frac{y_c - y_a}{a^3 + a})$"
   ]
  },
  {
   "cell_type": "code",
   "execution_count": 336,
   "metadata": {},
   "outputs": [],
   "source": [
    "def f(x):\n",
    "    return np.sin(x)\n",
    "\n",
    "def df(x):\n",
    "    return np.cos(x)\n",
    "\n",
    "def df_approx(x_s, a, h):\n",
    "    xa = x_s - h / a\n",
    "    xb = x_s\n",
    "    xc = x_s + h * a\n",
    "    \n",
    "    ya, yb, yc = f(xa), f(xb), f(xc)\n",
    "    \n",
    "    return 1 / h * ((yb - ya) * (a - 1 / a) + (yc - ya) / (a ** 3 + a))\n",
    "\n",
    "def get_df_error(x0, a, hl, hr):\n",
    "    hs = get_xs(hl, hr, N_GRAPH)\n",
    "    diffs = get_diff(hs,\n",
    "            lambda h: df(x0),\n",
    "            lambda h: df_approx(x0, a, h))\n",
    "    \n",
    "    return hs, diffs"
   ]
  },
  {
   "cell_type": "code",
   "execution_count": 337,
   "metadata": {},
   "outputs": [
    {
     "data": {
      "image/png": "[encoded data removed]",
      "text/plain": [
       "<Figure size 432x288 with 1 Axes>"
      ]
     },
     "metadata": {
      "needs_background": "light"
     },
     "output_type": "display_data"
    }
   ],
   "source": [
    "x0 = 0\n",
    "hl = 10 ** -8\n",
    "hr = 1\n",
    "\n",
    "xs, ys, names = [], [], []\n",
    "for a in np.arange(1, 2 + 10 ** -9, 0.5):\n",
    "    hs, diffs = get_df_error(x0, a, hl, hr)\n",
    "    xs.append(hs)\n",
    "    ys.append(diffs)\n",
    "    names.append(\"a = \" + str(a))\n",
    "\n",
    "draw(xs, ys, names)"
   ]
  },
  {
   "cell_type": "markdown",
   "metadata": {},
   "source": [
    "Теоретическая оценка точности $O(a^2 h^2)$. Это сходится с полученными результатами - графики функции выглядят, как параболы. "
   ]
  },
  {
   "cell_type": "markdown",
   "metadata": {},
   "source": [
    "# Упражнение 2\n",
    "\n",
    "## Пункт A"
   ]
  },
  {
   "cell_type": "code",
   "execution_count": 338,
   "metadata": {},
   "outputs": [],
   "source": [
    "def f(x):\n",
    "    return 1 / (1 + 9 * x ** 2)\n",
    "\n",
    "def primitive(x):\n",
    "    return 1 / 3 * np.arctan(3 * x)\n",
    "\n",
    "def integral(a, b):\n",
    "    return primitive(b) - primitive(a)"
   ]
  },
  {
   "cell_type": "code",
   "execution_count": 339,
   "metadata": {},
   "outputs": [],
   "source": [
    "def int_trapeze(f, a, b, n):\n",
    "    dx = (b - a) / n\n",
    "    S = sum(f(a + dx * i) for i in range(n)) - f(a) / 2 + f(b) / 2\n",
    "    return S * dx"
   ]
  },
  {
   "cell_type": "code",
   "execution_count": 340,
   "metadata": {},
   "outputs": [],
   "source": [
    "def int_simpson(f, a, b, n):\n",
    "    dx = (b - a) / n\n",
    "    S = sum(2 * f(a + dx * i) + 4 * f(a + dx * i + dx / 2) for i in range(n)) - f(a) + f(b)\n",
    "    return S * dx / 6"
   ]
  },
  {
   "cell_type": "code",
   "execution_count": 341,
   "metadata": {},
   "outputs": [],
   "source": [
    "a = -1\n",
    "b = 5\n",
    "\n",
    "nl = 2\n",
    "nr = 1000\n",
    "\n",
    "ns = np.array(list(range(nl, nr)))"
   ]
  },
  {
   "cell_type": "code",
   "execution_count": 342,
   "metadata": {},
   "outputs": [
    {
     "data": {
      "image/png": "[encoded data removed]",
      "text/plain": [
       "<Figure size 432x288 with 1 Axes>"
      ]
     },
     "metadata": {
      "needs_background": "light"
     },
     "output_type": "display_data"
    }
   ],
   "source": [
    "diffs_trapeze = get_diff(ns,\n",
    "        lambda n: integral(a, b),\n",
    "        lambda n: int_trapeze(f, a, b, n))\n",
    "\n",
    "diffs_simpson = get_diff(ns,\n",
    "        lambda n: integral(a, b),\n",
    "        lambda n: int_simpson(f, a, b, n))\n",
    "\n",
    "diffs_trapeze_log = list(map(lambda x: np.log(x), diffs_trapeze))\n",
    "diffs_simpson_log = list(map(lambda x: np.log(x), diffs_simpson))\n",
    "\n",
    "xs = [ns] * 2\n",
    "ys = [diffs_trapeze_log, diffs_simpson_log]\n",
    "names = [\"trapeze\", \"simpson\"]\n",
    "\n",
    "draw(xs, ys, names)"
   ]
  },
  {
   "cell_type": "markdown",
   "metadata": {},
   "source": [
    "В логарифмической шкале значения отличаются примерно в 2 раза. Что согласуется с теорией, так как метод трапеции имеют оценку $O(1 / M^2)$, а метод Симпсона $O(1 / M^4)$."
   ]
  },
  {
   "cell_type": "markdown",
   "metadata": {},
   "source": [
    "## Пункт B"
   ]
  },
  {
   "cell_type": "code",
   "execution_count": 343,
   "metadata": {},
   "outputs": [
    {
     "name": "stdout",
     "output_type": "stream",
     "text": [
      "Runge = 0.008125295008320198\n",
      "real = 0.008119079837618403\n",
      "difference = 6.2151707017951e-06\n"
     ]
    }
   ],
   "source": [
    "a = -1\n",
    "b = 5\n",
    "\n",
    "eps = 10 ** -6\n",
    "\n",
    "def H_runge(f, a, b, eps):\n",
    "    H2 = 10 ** -3\n",
    "    H1 = 2 * H2\n",
    "    SH2 = int_trapeze(f, a, b, int((b - a) / H2))\n",
    "    SH1 = int_trapeze(f, a, b, int((b - a) / H1))\n",
    "    C = 1 / (3 * H2 ** 2) * (SH2 - SH1)\n",
    "    return np.sqrt(eps / abs(C))\n",
    "\n",
    "def H_real(f, a, b, eps):\n",
    "    real_v = integral(a, b)\n",
    "    \n",
    "    l = 0\n",
    "    r = 1\n",
    "    for i in range(100):\n",
    "        m = (l + r) / 2\n",
    "        v = int_trapeze(f, a, b, int((b - a) / m))\n",
    "        if (abs(real_v - v) < eps):\n",
    "            l = m\n",
    "        else:\n",
    "            r = m\n",
    "            \n",
    "    return l\n",
    "        \n",
    "\n",
    "H_a = H_runge(f, a, b, eps)\n",
    "H_r = H_real(f, a, b, eps)\n",
    "\n",
    "print(\"Runge =\", H_a)\n",
    "print(\"real =\", H_r)\n",
    "print(\"difference =\", abs(H_r - H_a))"
   ]
  },
  {
   "cell_type": "markdown",
   "metadata": {},
   "source": [
    "## Пункт C"
   ]
  },
  {
   "cell_type": "code",
   "execution_count": 344,
   "metadata": {},
   "outputs": [],
   "source": [
    "a = -1\n",
    "b = 1"
   ]
  },
  {
   "cell_type": "code",
   "execution_count": 345,
   "metadata": {},
   "outputs": [],
   "source": [
    "def get_weights(a, b, n):\n",
    "    def gen_f(i):\n",
    "        def f(q):\n",
    "            res = 1\n",
    "            for k in range(1, n + 1):\n",
    "                if k != i:\n",
    "                    res *= q - (k - 1)\n",
    "            return res\n",
    "        return f\n",
    "    \n",
    "    h = (b - a) / (n - 1)\n",
    "    arr = []\n",
    "    for i in range(1, n + 1):\n",
    "        l = int_simpson(gen_f(i), 0, n - 1, N_GRAPH)\n",
    "        l *= (-1) ** (n - i) * h / np.math.factorial(i - 1) / np.math.factorial(n - i) \n",
    "        arr.append(l)\n",
    "    return arr"
   ]
  },
  {
   "cell_type": "code",
   "execution_count": 346,
   "metadata": {},
   "outputs": [
    {
     "name": "stdout",
     "output_type": "stream",
     "text": [
      "the minimum number of nodes for which the weight is negative = 9\n"
     ]
    }
   ],
   "source": [
    "n = 2\n",
    "while min(get_weights(a, b, n)) > 0:\n",
    "    n += 1\n",
    "    \n",
    "print(\"the minimum number of nodes for which the weight is negative =\", n)"
   ]
  },
  {
   "cell_type": "code",
   "execution_count": null,
   "metadata": {},
   "outputs": [],
   "source": []
  }
 ],
 "metadata": {
  "kernelspec": {
   "display_name": "Python 3",
   "language": "python",
   "name": "python3"
  },
  "language_info": {
   "codemirror_mode": {
    "name": "ipython",
    "version": 3
   },
   "file_extension": ".py",
   "mimetype": "text/x-python",
   "name": "python",
   "nbconvert_exporter": "python",
   "pygments_lexer": "ipython3",
   "version": "3.6.7"
  }
 },
 "nbformat": 4,
 "nbformat_minor": 2
}
