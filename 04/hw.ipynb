{
 "cells": [
  {
   "cell_type": "code",
   "execution_count": 217,
   "metadata": {},
   "outputs": [],
   "source": [
    "import numpy as np\n",
    "import matplotlib.pyplot as plt\n",
    "from scipy.special import legendre"
   ]
  },
  {
   "cell_type": "code",
   "execution_count": 218,
   "metadata": {},
   "outputs": [],
   "source": [
    "N_GRAPH = 10"
   ]
  },
  {
   "cell_type": "code",
   "execution_count": 219,
   "metadata": {},
   "outputs": [],
   "source": [
    "def get_xs(xl, xr, n):\n",
    "    s = (xr - xl) / (n - 1)\n",
    "    return np.arange(xl, xr + 10 ** -9, s)"
   ]
  },
  {
   "cell_type": "code",
   "execution_count": 220,
   "metadata": {},
   "outputs": [],
   "source": [
    "def get_diff(xs, f1, f2):\n",
    "    return list(map(lambda x: abs(f1(x) - f2(x)), xs))"
   ]
  },
  {
   "cell_type": "code",
   "execution_count": 221,
   "metadata": {},
   "outputs": [],
   "source": [
    "def draw(xs, ys, names=None):\n",
    "    if type(xs) is not list:\n",
    "        xs = [xs]\n",
    "        ys = [ys]\n",
    "        if names is not None:\n",
    "            names = [names]\n",
    "            \n",
    "    n = len(xs)\n",
    "    for i in range(n):\n",
    "        plt.plot(xs[i], ys[i])\n",
    "        \n",
    "    if names is not None:\n",
    "        plt.legend(names)\n",
    "    plt.show()"
   ]
  },
  {
   "cell_type": "code",
   "execution_count": 222,
   "metadata": {},
   "outputs": [],
   "source": [
    "def p(n, x):\n",
    "    return legendre(n)(x)"
   ]
  },
  {
   "cell_type": "code",
   "execution_count": 223,
   "metadata": {},
   "outputs": [],
   "source": [
    "def dp(n, x):\n",
    "    return n / (1 - x ** 2) * (p(n - 1, x) - x * p(n, x))"
   ]
  },
  {
   "cell_type": "code",
   "execution_count": 224,
   "metadata": {},
   "outputs": [],
   "source": [
    "def get_roots(n):\n",
    "    roots = []\n",
    "    for c in range(n):\n",
    "        roots = [-1] + roots + [1]\n",
    "        \n",
    "        n_roots = []\n",
    "        for i in range(1, len(roots)):\n",
    "            x = (roots[i - 1] + roots[i]) / 2\n",
    "            for j in range(N_GRAPH):\n",
    "                x -= p(c + 1, x) / dp(c + 1, x)\n",
    "                \n",
    "            n_roots.append(x)\n",
    "            \n",
    "        roots = n_roots\n",
    "        \n",
    "    return roots"
   ]
  },
  {
   "cell_type": "code",
   "execution_count": 225,
   "metadata": {},
   "outputs": [],
   "source": [
    "def int_simpson(f, a, b, n):\n",
    "    dx = (b - a) / n\n",
    "    S = sum(2 * f(a + dx * i) + 4 * f(a + dx * i + dx / 2) for i in range(n)) - f(a) + f(b)\n",
    "    return S * dx / 6"
   ]
  },
  {
   "cell_type": "code",
   "execution_count": 226,
   "metadata": {},
   "outputs": [],
   "source": [
    "def get_weights(roots):\n",
    "    def gen_f(i, n, r):\n",
    "        def f(x):\n",
    "            res = 1\n",
    "            for j in range(n):\n",
    "                if j != i:\n",
    "                    res *= ((x - r[j]) / (r[i] - r[j]))\n",
    "            return res\n",
    "        return f\n",
    "    \n",
    "    n = len(roots)\n",
    "    return [int_simpson(gen_f(i, n, roots), -1, 1, N_GRAPH) for i in range(n)]"
   ]
  },
  {
   "cell_type": "code",
   "execution_count": 227,
   "metadata": {},
   "outputs": [],
   "source": [
    "def int_gauss(f, a, b, n):\n",
    "    roots = get_roots(n)\n",
    "    wi = get_weights(roots)\n",
    "    S = sum(wi[i] * f((b - a) / 2 * roots[i] + (a + b) / 2) for i in range(n))\n",
    "    return S * (b - a) / 2"
   ]
  },
  {
   "cell_type": "code",
   "execution_count": 228,
   "metadata": {},
   "outputs": [],
   "source": [
    "def f(x):\n",
    "    return 1 / (1 + 9 * x ** 2)\n",
    "\n",
    "def primitive(x):\n",
    "    return 1 / 3 * np.arctan(3 * x)\n",
    "\n",
    "def integral(a, b):\n",
    "    return primitive(b) - primitive(a)"
   ]
  },
  {
   "cell_type": "code",
   "execution_count": 229,
   "metadata": {},
   "outputs": [
    {
     "data": {
      "image/png": "[encoded data removed]",
      "text/plain": [
       "<Figure size 432x288 with 1 Axes>"
      ]
     },
     "metadata": {
      "needs_background": "light"
     },
     "output_type": "display_data"
    }
   ],
   "source": [
    "a = -1\n",
    "b = 5\n",
    "\n",
    "n = 20\n",
    "\n",
    "xs = list(range(1, n))\n",
    "ys1 = get_diff(xs,\n",
    "             lambda x: integral(a, b),\n",
    "             lambda x: int_gauss(f, a, b, x))\n",
    "ys2 = get_diff(xs,\n",
    "             lambda x: integral(a, b),\n",
    "             lambda x: int_simpson(f, a, b, x))\n",
    "\n",
    "ys1 = list(map(lambda x: np.log(x), ys1))\n",
    "ys2 = list(map(lambda x: np.log(x), ys2))\n",
    "\n",
    "xs = [xs] * 2\n",
    "ys = [ys1, ys2]\n",
    "names = [\"gauss\", \"simpson\"]\n",
    "draw(xs, ys, names)"
   ]
  }
 ],
 "metadata": {
  "kernelspec": {
   "display_name": "Python 3",
   "language": "python",
   "name": "python3"
  },
  "language_info": {
   "codemirror_mode": {
    "name": "ipython",
    "version": 3
   },
   "file_extension": ".py",
   "mimetype": "text/x-python",
   "name": "python",
   "nbconvert_exporter": "python",
   "pygments_lexer": "ipython3",
   "version": "3.6.7"
  }
 },
 "nbformat": 4,
 "nbformat_minor": 2
}
